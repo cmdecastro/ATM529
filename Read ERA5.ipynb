{
 "cells": [
  {
   "cell_type": "code",
   "execution_count": 1,
   "id": "f1d7121b-ff84-4383-86e4-9b60599dfdac",
   "metadata": {},
   "outputs": [],
   "source": [
    "import numpy as np\n",
    "from netCDF4 import Dataset\n",
    "from os.path import exists\n",
    "from datetime import date, timedelta"
   ]
  },
  {
   "cell_type": "code",
   "execution_count": 2,
   "id": "e5dfbf1b-3445-4ae1-8f91-46cd49830545",
   "metadata": {},
   "outputs": [],
   "source": [
    "d0=date(1979,1,1) #starting date\n",
    "L=(date(2020,12,31)-date(1979,1,1)).days #get how many days between 1/1/1979 to 12/31/2020\n",
    "dateseries=[d0+timedelta(int(d)) for d in np.arange(L)] \n",
    "months=np.array([da.month for da in dateseries]) #get time series of months\n",
    "years=np.array([da.year for da in dateseries]) #get time series of years"
   ]
  },
  {
   "cell_type": "code",
   "execution_count": 3,
   "id": "81bd59c4-4837-4fd2-921e-8cfe9895e0b4",
   "metadata": {},
   "outputs": [],
   "source": [
    "levs=np.array([1000,975,950,925,900,875,850,825,800,775,750,700,650,600,550,500,450,400,350,300,250,225,200,175,150,125,100]) #pressure levels\n",
    "path='/free2/cd859229/era5_temp' #directory of temperature ERA5"
   ]
  },
  {
   "cell_type": "code",
   "execution_count": 4,
   "id": "80f3ef03-4b52-4cb7-9534-0a2cb6c95719",
   "metadata": {},
   "outputs": [],
   "source": [
    "year = 2010\n",
    "month = 8\n",
    "file = Dataset(path+\"/temperature_\"+str(year)+'_'+str(month)+\".nc\", \"r\")"
   ]
  },
  {
   "cell_type": "code",
   "execution_count": 5,
   "id": "fe6d5fe2-3944-4956-89bb-158c1f90be79",
   "metadata": {},
   "outputs": [
    {
     "name": "stdout",
     "output_type": "stream",
     "text": [
      "year = 1979\n",
      "year = 1980\n",
      "year = 1981\n",
      "year = 1982\n",
      "year = 1983\n",
      "year = 1984\n",
      "year = 1985\n",
      "year = 1986\n",
      "year = 1987\n",
      "year = 1988\n",
      "year = 1989\n",
      "year = 1990\n",
      "year = 1991\n",
      "year = 1992\n",
      "year = 1993\n",
      "year = 1994\n",
      "year = 1995\n",
      "year = 1996\n",
      "year = 1997\n",
      "year = 1998\n",
      "year = 1999\n",
      "year = 2000\n",
      "year = 2001\n",
      "year = 2002\n",
      "year = 2003\n",
      "year = 2004\n",
      "year = 2005\n",
      "year = 2006\n",
      "year = 2007\n",
      "year = 2008\n",
      "year = 2009\n",
      "year = 2010\n",
      "year = 2011\n",
      "year = 2012\n",
      "year = 2013\n",
      "year = 2014\n",
      "year = 2015\n",
      "year = 2016\n",
      "year = 2017\n",
      "year = 2018\n",
      "year = 2019\n",
      "year = 2020\n"
     ]
    }
   ],
   "source": [
    "dataarray=np.zeros((L,len(levs),17,360)) #dimensions = (time,level,lat,lon)\n",
    "    \n",
    "for year in np.arange(1979,2021): #every year\n",
    "    print(\"year =\",year)\n",
    "    for month in np.arange(1,13): #every month\n",
    "        if exists(path+'/temperature_'+str(year)+'_'+str(month)+\".nc\"):\n",
    "            file = Dataset(path+\"/temperature_\"+str(year)+'_'+str(month)+\".nc\", \"r\") #open netCDF file\n",
    "            v=file.variables['t'][:] #get temperature at pressure level\n",
    "            I=np.where(np.logical_and(years==year,months==month))[0]\n",
    "            for i in np.arange(I.shape[0]):\n",
    "                dataarray[I[i],:,:]=v[i*24:(i+1)*24,:,:,:].mean(axis=0) #get daily equatorial mean    "
   ]
  },
  {
   "cell_type": "code",
   "execution_count": 6,
   "id": "e0dd76a5-85b0-4eb8-b44b-76a69157a02e",
   "metadata": {},
   "outputs": [],
   "source": [
    "transpose = np.transpose(dataarray,axes=(0,3,1,2))"
   ]
  },
  {
   "cell_type": "code",
   "execution_count": 7,
   "id": "4b4cf2dc-05ea-446a-a08e-dbc8e69b834c",
   "metadata": {},
   "outputs": [],
   "source": [
    "np.save('/free2/cd859229/era5/temp_1979-2020_era5.npy',transpose)"
   ]
  },
  {
   "cell_type": "code",
   "execution_count": 8,
   "id": "247d0e2e-8f1a-409a-916e-93115dbaf01d",
   "metadata": {},
   "outputs": [
    {
     "data": {
      "text/plain": [
       "(15340, 360, 27, 17)"
      ]
     },
     "execution_count": 8,
     "metadata": {},
     "output_type": "execute_result"
    }
   ],
   "source": [
    "transpose.shape"
   ]
  },
  {
   "cell_type": "code",
   "execution_count": null,
   "id": "a2775dce-a483-4b0d-ba04-4c34ef2fd391",
   "metadata": {},
   "outputs": [],
   "source": []
  }
 ],
 "metadata": {
  "kernelspec": {
   "display_name": "Python 3 August 2022 Environment",
   "language": "python",
   "name": "aug22"
  },
  "language_info": {
   "codemirror_mode": {
    "name": "ipython",
    "version": 3
   },
   "file_extension": ".py",
   "mimetype": "text/x-python",
   "name": "python",
   "nbconvert_exporter": "python",
   "pygments_lexer": "ipython3",
   "version": "3.10.5"
  }
 },
 "nbformat": 4,
 "nbformat_minor": 5
}
